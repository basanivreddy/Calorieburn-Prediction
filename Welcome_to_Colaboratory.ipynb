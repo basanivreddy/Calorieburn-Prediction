{
  "cells": [
    {
      "cell_type": "markdown",
      "metadata": {
        "id": "view-in-github",
        "colab_type": "text"
      },
      "source": [
        "<a href=\"https://colab.research.google.com/github/basanivreddy/Calorieburn-Prediction/blob/main/Welcome_to_Colaboratory.ipynb\" target=\"_parent\"><img src=\"https://colab.research.google.com/assets/colab-badge.svg\" alt=\"Open In Colab\"/></a>"
      ]
    },
    {
      "cell_type": "code",
      "source": [],
      "metadata": {
        "colab": {
          "base_uri": "https://localhost:8080/"
        },
        "id": "hPnSxNlw6W5v",
        "outputId": "af48e752-73c7-4e7f-d97f-223d486ce946"
      },
      "execution_count": 7,
      "outputs": [
        {
          "output_type": "stream",
          "name": "stdout",
          "text": [
            "1.26.4\n"
          ]
        }
      ]
    },
    {
      "cell_type": "code",
      "source": [
        "import keras\n",
        "print(keras.__version__)"
      ],
      "metadata": {
        "colab": {
          "base_uri": "https://localhost:8080/"
        },
        "id": "KXKAeKiD6W_p",
        "outputId": "566fc84f-6bc9-4490-da36-6737774ba69e"
      },
      "execution_count": 8,
      "outputs": [
        {
          "output_type": "stream",
          "name": "stdout",
          "text": [
            "3.5.0\n"
          ]
        }
      ]
    },
    {
      "cell_type": "code",
      "source": [
        "import tensorflow as tf\n",
        "print(tf.__version__)"
      ],
      "metadata": {
        "colab": {
          "base_uri": "https://localhost:8080/"
        },
        "id": "RnmS0hj07CNo",
        "outputId": "eeaa8940-5b8e-4522-9b7b-1eb35093fe44"
      },
      "execution_count": 9,
      "outputs": [
        {
          "output_type": "stream",
          "name": "stdout",
          "text": [
            "2.17.1\n"
          ]
        }
      ]
    },
    {
      "cell_type": "code",
      "source": [
        "import numpy as np\n",
        "a = [1,2,3,4,5]\n",
        "a_numpy = np.array(a)\n",
        "#Print an array\n",
        "a_numpy"
      ],
      "metadata": {
        "colab": {
          "base_uri": "https://localhost:8080/"
        },
        "id": "sdVs3L6g9Lzw",
        "outputId": "457f608d-f05d-4d52-f355-556bffaa7ec9"
      },
      "execution_count": 22,
      "outputs": [
        {
          "output_type": "execute_result",
          "data": {
            "text/plain": [
              "array([1, 2, 3, 4, 5])"
            ]
          },
          "metadata": {},
          "execution_count": 22
        }
      ]
    },
    {
      "cell_type": "code",
      "source": [
        "import numpy as np\n",
        "\n",
        "c = [(1, 2), [3, 4, (5)], (6, 7, 8)]\n",
        "b = np.array(c,dtype=object)\n",
        "print(b)\n",
        "print(b.shape)"
      ],
      "metadata": {
        "colab": {
          "base_uri": "https://localhost:8080/"
        },
        "id": "38kQVpOx7Pl_",
        "outputId": "e3a36478-7625-445f-bb15-6bf15d2f8a04"
      },
      "execution_count": 14,
      "outputs": [
        {
          "output_type": "stream",
          "name": "stdout",
          "text": [
            "[(1, 2) list([3, 4, 5]) (6, 7, 8)]\n",
            "(3,)\n"
          ]
        }
      ]
    },
    {
      "cell_type": "code",
      "source": [
        "import numpy as np\n",
        "\n",
        "c = [(1, 2), [3, 4, (5)], (6, 7, 8)]\n",
        "b = np.asarray(c, dtype=object)\n",
        "print(b)\n",
        "print(b.shape)\n"
      ],
      "metadata": {
        "colab": {
          "base_uri": "https://localhost:8080/"
        },
        "id": "eEaPagd37eeo",
        "outputId": "49166247-2b05-49ef-c22e-83d24f7c9481"
      },
      "execution_count": 11,
      "outputs": [
        {
          "output_type": "stream",
          "name": "stdout",
          "text": [
            "[(1, 2) list([3, 4, 5]) (6, 7, 8)]\n",
            "(3,)\n"
          ]
        }
      ]
    },
    {
      "cell_type": "code",
      "source": [
        "a = (1,2,3)\n",
        "c=([1,2,3,4],4,5)\n",
        "b = np.asarray(a, dtype=object)\n",
        "d = np.asarray(c, dtype=object)\n",
        "print(b)"
      ],
      "metadata": {
        "colab": {
          "base_uri": "https://localhost:8080/"
        },
        "id": "eiI7iXJH7vpJ",
        "outputId": "97890083-7795-4026-f201-021a1a5030aa"
      },
      "execution_count": 19,
      "outputs": [
        {
          "output_type": "stream",
          "name": "stdout",
          "text": [
            "[1 2 3]\n"
          ]
        }
      ]
    },
    {
      "cell_type": "code",
      "source": [
        "\n",
        "a = (1,2,3)\n",
        "c=([1,2,3,4],4,5)\n",
        "b = np.asarray(a, dtype=object)\n",
        "d = np.asarray(c, dtype=object)\n",
        "b"
      ],
      "metadata": {
        "colab": {
          "base_uri": "https://localhost:8080/"
        },
        "id": "gCa8R_SO8fHp",
        "outputId": "369d2798-8f01-4b53-dbc4-1f640f748b45"
      },
      "execution_count": 20,
      "outputs": [
        {
          "output_type": "execute_result",
          "data": {
            "text/plain": [
              "array([1, 2, 3], dtype=object)"
            ]
          },
          "metadata": {},
          "execution_count": 20
        }
      ]
    },
    {
      "cell_type": "code",
      "source": [
        "a = np.zeros((5,4), dtype = np.float16)\n",
        "a"
      ],
      "metadata": {
        "colab": {
          "base_uri": "https://localhost:8080/"
        },
        "id": "QUiP5JWp878Q",
        "outputId": "a1b17d47-a7c6-4c8e-e7c0-22dacb26c55a"
      },
      "execution_count": 25,
      "outputs": [
        {
          "output_type": "execute_result",
          "data": {
            "text/plain": [
              "array([[0., 0., 0., 0.],\n",
              "       [0., 0., 0., 0.],\n",
              "       [0., 0., 0., 0.],\n",
              "       [0., 0., 0., 0.],\n",
              "       [0., 0., 0., 0.]], dtype=float16)"
            ]
          },
          "metadata": {},
          "execution_count": 25
        }
      ]
    },
    {
      "cell_type": "code",
      "source": [
        "a = np.full((3,3),2,dtype=np.int32)\n",
        "a\n"
      ],
      "metadata": {
        "colab": {
          "base_uri": "https://localhost:8080/"
        },
        "id": "NpbggiqX9VS_",
        "outputId": "337134d8-e33c-4879-c2d0-12a737a0e90a"
      },
      "execution_count": 28,
      "outputs": [
        {
          "output_type": "execute_result",
          "data": {
            "text/plain": [
              "array([[2, 2, 2],\n",
              "       [2, 2, 2],\n",
              "       [2, 2, 2]], dtype=int32)"
            ]
          },
          "metadata": {},
          "execution_count": 28
        }
      ]
    },
    {
      "cell_type": "code",
      "source": [
        "np.linspace(1,5,num=5,endpoint=True,retstep=True)\n"
      ],
      "metadata": {
        "colab": {
          "base_uri": "https://localhost:8080/"
        },
        "id": "XnIeN4ZZ9l7o",
        "outputId": "fd2e9838-4858-48e0-d72f-dd606c9f7ca2"
      },
      "execution_count": 26,
      "outputs": [
        {
          "output_type": "execute_result",
          "data": {
            "text/plain": [
              "(array([1., 2., 3., 4., 5.]), 1.0)"
            ]
          },
          "metadata": {},
          "execution_count": 26
        }
      ]
    },
    {
      "cell_type": "code",
      "source": [
        "np.arange(start=5,stop=100,step=7)"
      ],
      "metadata": {
        "colab": {
          "base_uri": "https://localhost:8080/"
        },
        "id": "-1wWaRJs9-kP",
        "outputId": "6ad6a34c-655e-4a6f-d13d-d582604d9084"
      },
      "execution_count": 30,
      "outputs": [
        {
          "output_type": "execute_result",
          "data": {
            "text/plain": [
              "array([ 5, 12, 19, 26, 33, 40, 47, 54, 61, 68, 75, 82, 89, 96])"
            ]
          },
          "metadata": {},
          "execution_count": 30
        }
      ]
    },
    {
      "cell_type": "code",
      "source": [
        "import tensorflow as tf\n",
        "print(tf.math.add(1., 2.))\n",
        "print(tf.math.add([1, 2], [3, 4]))\n",
        "print(tf.math.square(5))\n",
        "print(tf.math.reduce_sum([1, 2, 3]))\n",
        "print(tf.math.square(5)+tf.math.square(6))\n",
        "print(tf.math.square(2) + tf.math.square(3))\n"
      ],
      "metadata": {
        "colab": {
          "base_uri": "https://localhost:8080/"
        },
        "id": "lvoWaMif-juv",
        "outputId": "ab450f97-2ce8-47de-99f5-c44eefa0ca3c"
      },
      "execution_count": 34,
      "outputs": [
        {
          "output_type": "stream",
          "name": "stdout",
          "text": [
            "tf.Tensor(3.0, shape=(), dtype=float32)\n",
            "tf.Tensor([4 6], shape=(2,), dtype=int32)\n",
            "tf.Tensor(25, shape=(), dtype=int32)\n",
            "tf.Tensor(6, shape=(), dtype=int32)\n",
            "tf.Tensor(61, shape=(), dtype=int32)\n",
            "tf.Tensor(13, shape=(), dtype=int32)\n"
          ]
        }
      ]
    },
    {
      "cell_type": "code",
      "source": [
        "x = tf.linalg.matmul([[2]], [[2, 3]])\n",
        "print(x)\n",
        "print(x.shape)\n",
        "print(x.dtype)\n"
      ],
      "metadata": {
        "colab": {
          "base_uri": "https://localhost:8080/"
        },
        "id": "YTghPSMx_2b_",
        "outputId": "c389f4ec-6774-48bd-e45c-58fb995c8611"
      },
      "execution_count": 35,
      "outputs": [
        {
          "output_type": "stream",
          "name": "stdout",
          "text": [
            "tf.Tensor([[4 6]], shape=(1, 2), dtype=int32)\n",
            "(1, 2)\n",
            "<dtype: 'int32'>\n"
          ]
        }
      ]
    },
    {
      "cell_type": "code",
      "source": [
        "from tensorflow.keras.layers import TextVectorization\n",
        "training_data = np.array([[\"This is hi vivek\"], [\"this is hello lab\"]])\n",
        "training_data\n",
        "vectorizer = TextVectorization(output_mode=\"int\")\n",
        "vectorizer.adapt(training_data)\n",
        "integer_data = vectorizer(training_data)\n",
        "print(integer_data)"
      ],
      "metadata": {
        "colab": {
          "base_uri": "https://localhost:8080/"
        },
        "id": "VXos_aurAQl-",
        "outputId": "fb051f2e-1da7-426b-baad-e33968e126e8"
      },
      "execution_count": 40,
      "outputs": [
        {
          "output_type": "stream",
          "name": "stdout",
          "text": [
            "tf.Tensor(\n",
            "[[2 3 6 4]\n",
            " [2 3 7 5]], shape=(2, 4), dtype=int64)\n"
          ]
        }
      ]
    },
    {
      "cell_type": "code",
      "source": [
        "import numpy as np\n",
        "from tensorflow.keras.layers import CenterCrop, Rescaling\n",
        "from PIL import Image\n",
        "\n",
        "# Load an image\n",
        "image_path = \"/content/viv.jpg\"  # Replace with the actual path to your image\n",
        "image = Image.open(image_path)   # Load the image\n",
        "image = image.resize((200, 200))  # Resize to match the expected input size\n",
        "\n",
        "# Convert the image to a NumPy array\n",
        "image_array = np.array(image).astype(\"float32\")  # Shape: (200, 200, 3)\n",
        "\n",
        "# Add a batch dimension (batch_size=1)\n",
        "image_batch = np.expand_dims(image_array, axis=0)  # Shape: (1, 200, 200, 3)\n",
        "\n",
        "# Define the CenterCrop and Rescaling layers\n",
        "cropper = CenterCrop(height=100, width=100)\n",
        "scaler = Rescaling(scale=1.0 / 255)\n",
        "\n",
        "# Apply cropping and scaling\n",
        "output_data = scaler(cropper(image_batch))\n",
        "\n",
        "# Print results\n",
        "print(\"shape:\", output_data.shape)  # Expected shape: (1, 100, 100, 3)\n",
        "print(\"min:\", np.min(output_data))  # Minimum pixel value, scaled\n",
        "print(\"max:\", np.max(output_data))  # Maximum pixel value, scaled\n",
        "print(output_data)"
      ],
      "metadata": {
        "colab": {
          "base_uri": "https://localhost:8080/"
        },
        "id": "25uK80IeCyGe",
        "outputId": "5ad2de45-b440-479a-91e2-0cb09fd30e5b"
      },
      "execution_count": 41,
      "outputs": [
        {
          "output_type": "stream",
          "name": "stdout",
          "text": [
            "shape: (1, 100, 100, 3)\n",
            "min: 0.0\n",
            "max: 1.0\n",
            "tf.Tensor(\n",
            "[[[[1.         0.97647065 0.9568628 ]\n",
            "   [0.9843138  0.9803922  0.9607844 ]\n",
            "   [0.9607844  0.9686275  0.9607844 ]\n",
            "   ...\n",
            "   [0.69803923 0.63529414 0.54509807]\n",
            "   [0.7019608  0.6392157  0.54901963]\n",
            "   [0.7019608  0.6392157  0.54901963]]\n",
            "\n",
            "  [[1.         0.9803922  0.95294124]\n",
            "   [0.98823535 0.9803922  0.95294124]\n",
            "   [0.9607844  0.96470594 0.9490197 ]\n",
            "   ...\n",
            "   [0.7019608  0.6392157  0.54901963]\n",
            "   [0.7019608  0.6392157  0.54901963]\n",
            "   [0.7019608  0.6392157  0.54901963]]\n",
            "\n",
            "  [[0.9960785  0.96470594 0.9294118 ]\n",
            "   [0.97647065 0.96470594 0.9294118 ]\n",
            "   [0.9450981  0.95294124 0.9294118 ]\n",
            "   ...\n",
            "   [0.7176471  0.654902   0.5647059 ]\n",
            "   [0.7137255  0.6509804  0.56078434]\n",
            "   [0.70980394 0.64705884 0.5568628 ]]\n",
            "\n",
            "  ...\n",
            "\n",
            "  [[0.454902   0.4156863  0.37647063]\n",
            "   [0.46274513 0.42352945 0.38431376]\n",
            "   [0.47058827 0.43137258 0.38823533]\n",
            "   ...\n",
            "   [0.43529415 0.454902   0.3647059 ]\n",
            "   [0.4431373  0.46274513 0.37254903]\n",
            "   [0.454902   0.47450984 0.38431376]]\n",
            "\n",
            "  [[0.454902   0.4156863  0.37647063]\n",
            "   [0.46274513 0.42352945 0.38431376]\n",
            "   [0.4784314  0.43921572 0.3921569 ]\n",
            "   ...\n",
            "   [0.4156863  0.43529415 0.34509805]\n",
            "   [0.41960788 0.43921572 0.34901962]\n",
            "   [0.427451   0.44705886 0.35686275]]\n",
            "\n",
            "  [[0.45098042 0.41176474 0.37254903]\n",
            "   [0.46274513 0.42352945 0.38431376]\n",
            "   [0.47450984 0.43529415 0.38823533]\n",
            "   ...\n",
            "   [0.39607847 0.4156863  0.3254902 ]\n",
            "   [0.39607847 0.4156863  0.3254902 ]\n",
            "   [0.40000004 0.41960788 0.32941177]]]], shape=(1, 100, 100, 3), dtype=float32)\n"
          ]
        }
      ]
    },
    {
      "cell_type": "code",
      "source": [
        "from tensorflow.keras.layers import CenterCrop\n",
        "from tensorflow.keras.layers import Rescaling\n",
        "\n",
        "# Example image data, with values in the [0, 255] range\n",
        "training_data = np.random.randint(0, 256, size=(64, 200, 200, 3)).astype(\"float32\")\n",
        "\n",
        "cropper = CenterCrop(height=100, width=100)\n",
        "scaler = Rescaling(scale=1.0 / 255)\n",
        "\n",
        "output_data = scaler(cropper(training_data))\n",
        "print(\"shape:\", output_data.shape)\n",
        "print(\"min:\", np.min(output_data))\n",
        "print(\"max:\", np.max(output_data))"
      ],
      "metadata": {
        "colab": {
          "base_uri": "https://localhost:8080/"
        },
        "id": "qajmG4SUEZ7f",
        "outputId": "37d6ffda-1fbd-4b99-e777-a1ff4883bce5"
      },
      "execution_count": 42,
      "outputs": [
        {
          "output_type": "stream",
          "name": "stdout",
          "text": [
            "shape: (64, 100, 100, 3)\n",
            "min: 0.0\n",
            "max: 1.0\n"
          ]
        }
      ]
    },
    {
      "cell_type": "code",
      "source": [
        "import torch\n",
        "x = torch.rand(2, 3)  # An un-initialized Tensor object. x holds garbage data.\n",
        "y = torch.rand(2, 3)    # Initialize with random values\n",
        "\n",
        "# Operations\n",
        "\n",
        "z1 = x + y\n",
        "z2 = torch.add(x, y)             # Same as above\n",
        "\n",
        "print(z2)"
      ],
      "metadata": {
        "colab": {
          "base_uri": "https://localhost:8080/"
        },
        "id": "7hd27pxxE3XA",
        "outputId": "9fc71e83-9529-45aa-9e74-cce4e3087ae6"
      },
      "execution_count": 45,
      "outputs": [
        {
          "output_type": "stream",
          "name": "stdout",
          "text": [
            "tensor([[0.8466, 1.3614, 0.9879],\n",
            "        [1.0975, 0.9514, 1.3637]])\n"
          ]
        }
      ]
    },
    {
      "cell_type": "code",
      "source": [
        "import torch\n",
        "x = torch.Tensor(2, 3)  # An un-initialized Tensor object. x holds garbage data.\n",
        "y = torch.Tensor(2, 3)    # Initialize with random values\n",
        "# Operations\n",
        "z1 = x + y\n",
        "z2 = torch.add(x, y)             # Same as above\n",
        "print(z2)"
      ],
      "metadata": {
        "id": "Dzwmck1THNEf",
        "outputId": "4a9d161e-d4e2-497b-9af0-e145404f4fd5",
        "colab": {
          "base_uri": "https://localhost:8080/"
        }
      },
      "execution_count": 46,
      "outputs": [
        {
          "output_type": "stream",
          "name": "stdout",
          "text": [
            "tensor([[-7.5685e-32,  8.7632e-41,  7.1812e-29],\n",
            "        [ 0.0000e+00,  2.4984e-01,  5.7574e-01]])\n"
          ]
        }
      ]
    }
  ],
  "metadata": {
    "colab": {
      "name": "Welcome to Colaboratory",
      "provenance": [],
      "include_colab_link": true
    },
    "kernelspec": {
      "display_name": "Python 3",
      "name": "python3"
    }
  },
  "nbformat": 4,
  "nbformat_minor": 0
}